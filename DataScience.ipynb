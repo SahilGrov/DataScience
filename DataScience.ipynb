{
 "cells": [
  {
   "cell_type": "code",
   "execution_count": 1,
   "id": "e3c03a6a-e988-49ee-baa5-67006d7f060e",
   "metadata": {},
   "outputs": [
    {
     "name": "stdout",
     "output_type": "stream",
     "text": [
      "bvdjhasdjh kdhquid \n"
     ]
    }
   ],
   "source": [
    "print(\"bvdjhasdjh kdhquid \")"
   ]
  },
  {
   "cell_type": "code",
   "execution_count": 2,
   "id": "1ed226b2-6fd4-4a8d-ac6d-84a2a7e7d5cb",
   "metadata": {},
   "outputs": [
    {
     "name": "stdout",
     "output_type": "stream",
     "text": [
      "jay babab ki\n"
     ]
    }
   ],
   "source": [
    "print(\"jay babab ki\")"
   ]
  },
  {
   "cell_type": "code",
   "execution_count": 3,
   "id": "f31dbed4-767c-4f68-a6e4-d3b818d46ab6",
   "metadata": {},
   "outputs": [
    {
     "data": {
      "text/plain": [
       "773"
      ]
     },
     "execution_count": 3,
     "metadata": {},
     "output_type": "execute_result"
    }
   ],
   "source": [
    "765+8"
   ]
  },
  {
   "cell_type": "code",
   "execution_count": null,
   "id": "b56d141e-cbff-44ff-854a-38eeeaf34a77",
   "metadata": {},
   "outputs": [],
   "source": []
  }
 ],
 "metadata": {
  "kernelspec": {
   "display_name": "Python 3 (ipykernel)",
   "language": "python",
   "name": "python3"
  },
  "language_info": {
   "codemirror_mode": {
    "name": "ipython",
    "version": 3
   },
   "file_extension": ".py",
   "mimetype": "text/x-python",
   "name": "python",
   "nbconvert_exporter": "python",
   "pygments_lexer": "ipython3",
   "version": "3.12.4"
  }
 },
 "nbformat": 4,
 "nbformat_minor": 5
}
