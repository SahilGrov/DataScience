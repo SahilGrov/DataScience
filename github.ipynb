{
 "cells": [
  {
   "cell_type": "code",
   "execution_count": 1,
   "id": "c5a1b5bb-c13c-4921-8837-706f7afb2bec",
   "metadata": {},
   "outputs": [
    {
     "name": "stdout",
     "output_type": "stream",
     "text": [
      "hello is a part data science\n"
     ]
    }
   ],
   "source": [
    "print(\"hello is a part data science\")"
   ]
  },
  {
   "cell_type": "code",
   "execution_count": 2,
   "id": "a3809f2d-4bfe-4ea8-919e-f318042926b2",
   "metadata": {},
   "outputs": [
    {
     "name": "stdout",
     "output_type": "stream",
     "text": [
      "hi everyone you are happy\n"
     ]
    }
   ],
   "source": [
    "print(\"hi everyone you are happy\")\n",
    "      "
   ]
  },
  {
   "cell_type": "code",
   "execution_count": 3,
   "id": "3b6f14f0-4407-4115-bc06-2936eab5f173",
   "metadata": {},
   "outputs": [
    {
     "data": {
      "text/plain": [
       "66"
      ]
     },
     "execution_count": 3,
     "metadata": {},
     "output_type": "execute_result"
    }
   ],
   "source": [
    "58+8"
   ]
  },
  {
   "cell_type": "code",
   "execution_count": 4,
   "id": "51aab065-6a43-430d-b4d1-95f8abe735ce",
   "metadata": {},
   "outputs": [
    {
     "data": {
      "text/plain": [
       "702"
      ]
     },
     "execution_count": 4,
     "metadata": {},
     "output_type": "execute_result"
    }
   ],
   "source": [
    "78*9"
   ]
  },
  {
   "cell_type": "code",
   "execution_count": 5,
   "id": "e63858b6-e615-48be-b603-968072dba024",
   "metadata": {},
   "outputs": [
    {
     "data": {
      "text/plain": [
       "9.285714285714286"
      ]
     },
     "execution_count": 5,
     "metadata": {},
     "output_type": "execute_result"
    }
   ],
   "source": [
    "65/7"
   ]
  },
  {
   "cell_type": "code",
   "execution_count": null,
   "id": "c95021c8-da7b-4b7d-b87a-f68a83bb60cc",
   "metadata": {},
   "outputs": [],
   "source": []
  }
 ],
 "metadata": {
  "kernelspec": {
   "display_name": "Python 3 (ipykernel)",
   "language": "python",
   "name": "python3"
  },
  "language_info": {
   "codemirror_mode": {
    "name": "ipython",
    "version": 3
   },
   "file_extension": ".py",
   "mimetype": "text/x-python",
   "name": "python",
   "nbconvert_exporter": "python",
   "pygments_lexer": "ipython3",
   "version": "3.12.4"
  }
 },
 "nbformat": 4,
 "nbformat_minor": 5
}
